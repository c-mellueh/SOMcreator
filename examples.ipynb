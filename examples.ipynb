{
 "cells": [
  {
   "cell_type": "markdown",
   "metadata": {
    "pycharm": {
     "name": "#%% md\n"
    }
   },
   "source": [
    "# Basics"
   ]
  },
  {
   "cell_type": "code",
   "execution_count": 46,
   "metadata": {
    "pycharm": {
     "name": "#%%\n"
    }
   },
   "outputs": [
    {
     "name": "stdout",
     "output_type": "stream",
     "text": [
      "Done\n"
     ]
    }
   ],
   "source": [
    "from SOMcreator import Project,Object,Attribute,PropertySet\n",
    "\n",
    "proj =Project(\"Testprojekt\")\n",
    "proj.clear()\n",
    "proj.open(\"data/SOM MaKa.SOMjson\")  #alternative: proj.import_excel(\"data/SOM MAKA.xlsx\",\"SOM-MaKa\")\n",
    "print(\"Done\")"
   ]
  },
  {
   "cell_type": "code",
   "execution_count": 47,
   "metadata": {
    "pycharm": {
     "name": "#%%\n"
    }
   },
   "outputs": [
    {
     "name": "stdout",
     "output_type": "stream",
     "text": [
      "Abdichtung\n",
      "Abdichtung\n",
      "Absenkbausatz\n",
      "Abspannvorrichtung\n",
      "AndreaskreuzUndLichtzeichen\n",
      "Anhebbausatz\n",
      "Anker\n",
      "Anprallschutz\n",
      "Arbeitsgrube\n",
      "Ausbau\n",
      "Ausgleichsplatte\n",
      "Ausleger\n",
      "Ausruestung\n",
      "Aussenschale\n",
      "BE-Flaeche\n",
      "BUEAnlage\n",
      "BUEAnlageStrasse\n",
      "BUEBedieneinrichtung\n",
      "BUEEinschaltung\n",
      "BUESpezifischesSignal\n",
      "Bahnsteiganlage\n",
      "Bahnsteigausbau\n",
      "Bahnsteigausbaukomponente\n",
      "Bahnsteige\n",
      "Bahnsteigzugang\n",
      "Bahnuebergaenge\n",
      "Baubehelf\n",
      "Baubruecke\n",
      "Baugrund\n",
      "Bautelleneinrichtung\n",
      "Bauwerksaufhaengung\n",
      "BauzeitlicheSicherungseinrichtung\n",
      "Bebauung\n",
      "Bedachungsbahnsteigfuss\n",
      "Bedieneinrichtung Oertlich\n",
      "Bedieneinrichtung Stellwerk\n",
      "Bedienung und Steuerung\n",
      "Befestigungselement\n",
      "Betonwanne\n",
      "Bettung\n",
      "Binderschicht\n",
      "Bodenart\n",
      "Bodenplatte\n",
      "Bodenschicht\n",
      "Bogenabzug\n",
      "Bohrpfahl\n",
      "Bohrpfahlwand\n",
      "Brillenwand\n",
      "Bruecke\n",
      "Brueckenplatte\n",
      "Brueckentraeger\n",
      "Brueckentragwerk\n",
      "Deckschicht\n",
      "Durchrutschweg\n",
      "ETCSBalise\n",
      "ETCSDatenpunkt\n",
      "ETCSFachtelegramm\n",
      "Eindeckung\n",
      "Einfassungsrahmen\n",
      "Eingleisstelle\n",
      "Entwaesserung\n",
      "Entwaesserungsgraben\n",
      "Entwaesserungskanal\n",
      "Entwaesserungsschacht\n",
      "ErdKabel\n",
      "ErdLeitung\n",
      "Erdabtrag\n",
      "Erdauftrag\n",
      "Erdbau\n",
      "Erdtiefbau\n",
      "Erdtiefbaukomponente\n",
      "Erdung\n",
      "FMAKomponente\n",
      "Fahrbahnuebergang\n",
      "Fahrleitung\n",
      "Fahrstrasse\n",
      "FahrwegBefahrbar\n",
      "Fangschiene \n",
      "Feste Fahrbahn\n",
      "Flachgruendung\n",
      "Flachgruendungsplatte\n",
      "Fluegelwand\n",
      "FreiverlegtesKabelsystem\n",
      "Frostschutzschicht\n",
      "Fundament\n",
      "GEOKante\n",
      "GEOKnoten\n",
      "GEOPunkt\n",
      "GFRAnlage\n",
      "GFRElement\n",
      "GFRTripelspiegel\n",
      "GWSpiegel\n",
      "Gambionenwand\n",
      "Gelaender\n",
      "GeosynthetischeTondichtungsbahn\n",
      "Geotextil\n",
      "Gleis\n",
      "Gleisbegrenzungspunkt\n",
      "Gleisende\n",
      "Gleissperre\n",
      "Gleistragplatte\n",
      "Gleisverstaerkung\n",
      "Graben\n",
      "Grenzzeichen\n",
      "Gruendung\n",
      "Haengesaeule\n",
      "Herzstueck\n",
      "Hilfsbauwerke\n",
      "Hilfsgeometrie\n",
      "Hilfslaermschutz\n",
      "Homogenbereich\n",
      "Innenschale\n",
      "Isolator\n",
      "Joch\n",
      "Kabel\n",
      "KabelVerteilpunkt\n",
      "Kabelgefaessystem\n",
      "Kabelgraben\n",
      "Kabeltiefbau\n",
      "Kabeltrog\n",
      "Kalotte\n",
      "Kalottensohle\n",
      "Kappe\n",
      "Kettenwerk\n",
      "Kunststoffdichtungsbahn\n",
      "LST\n",
      "LSTGeo\n",
      "LSTKabel\n",
      "LSTLeitung\n",
      "Laermschutzeinrichtung\n",
      "Laermschutzwand\n",
      "Lager\n",
      "Leitung\n",
      "Loeschwasseranlage\n",
      "Markierung\n",
      "Mast\n",
      "Mastkonsole\n",
      "Medien und Trassen\n",
      "Mehrgleisausleger\n",
      "Messkontrollvorrichtung\n",
      "Mikropfahl\n",
      "Nutzflaeche\n",
      "OLAKabel\n",
      "OLALeitung\n",
      "Oberbau\n",
      "Oberleitungsanlage\n",
      "Oberleitungstrenner\n",
      "Oertlichkeit\n",
      "Ortung\n",
      "PZBElement\n",
      "PZBElementGM\n",
      "PZBElementGUE\n",
      "Pfahlkopfplatte\n",
      "PlanumGruendungssohle\n",
      "Planumsschutzschicht\n",
      "Planumsschutzschicht\n",
      "Pruefgeometrie\n",
      "Querfeld\n",
      "Querfeldstuetzpunkt\n",
      "Querfeldtragseil\n",
      "Quertrageinrichtung\n",
      "Querung\n",
      "Querungsrohr\n",
      "Querverbindungsstollen\n",
      "Radlenker\n",
      "Rahmendecke\n",
      "Rahmenfundament\n",
      "Rahmensegment\n",
      "Randweg\n",
      "Randwegverbau\n",
      "Richtseil\n",
      "Rollpalette\n",
      "Saeule\n",
      "Sandbettung\n",
      "Sauberkeitschicht\n",
      "Schacht\n",
      "Schalter\n",
      "Schaltgruppe\n",
      "Schaltmittel\n",
      "Schiene\n",
      "Schienenauszug\n",
      "Schienenisolierstoss\n",
      "Schienentrassierung\n",
      "Schloss\n",
      "Schlosskombination\n",
      "Schluesselabhaengigkeiten\n",
      "Schnittscheibe\n",
      "Schotter\n",
      "Schotterhalterung\n",
      "Schotteroberbau\n",
      "Schrankenantrieb\n",
      "Schuesselsperre\n",
      "Schwelle\n",
      "Schwergewichtsmauer\n",
      "Seitenfuehrungsblock\n",
      "Seitenfuehrungslager\n",
      "Signal\n",
      "Signal\n",
      "Signalbefestigung\n",
      "Signale\n",
      "Signalrahmen\n",
      "SonicBoomBauwerke\n",
      "Sonstige Einrichtung\n",
      "Sonstige Modellkomponente\n",
      "SonstigeTunnelausruestung\n",
      "SonstigeTunnelbauwerke\n",
      "SonstigerRaum\n",
      "SonstigerSchacht\n",
      "SonstigerStollen\n",
      "Sonstiges Bauteil\n",
      "Sperrschicht\n",
      "Spundwand\n",
      "StartZielbaugrube\n",
      "StellUndVerschlusssystem\n",
      "Strasse\n",
      "Strassenbau\n",
      "Strassenentwaesserung\n",
      "Strassenentwaesserungskomponente\n",
      "Strassentrassierung\n",
      "Strecke\n",
      "StreckePunkt\n",
      "Strossensohle\n",
      "Stuetze\n",
      "Stuetzkonstruktion\n",
      "Suchgraben\n",
      "TOPKante\n",
      "TOPKnoten\n",
      "Tiefgruendung\n",
      "Trageinrichtung\n",
      "Tragschicht\n",
      "Tragwerk\n",
      "TrasseKante\n",
      "TrasseKnoten\n",
      "Trassierung\n",
      "Trassierungskante\n",
      "Traverse\n",
      "Trennschicht\n",
      "Trog\n",
      "Trogwand\n",
      "Tuer\n",
      "Tunnel\n",
      "Tunnelabdichtung\n",
      "Tunnelausruestung\n",
      "Tunnelausstattung\n",
      "Tunnelbeleuchtung\n",
      "Tunnelentwaesserung\n",
      "Tunnelfuge\n",
      "Tunnelnotrufsystem\n",
      "Tunnelportal\n",
      "Tunnelrettungseinrichtung\n",
      "Tunnelrettungsplatz\n",
      "Tunnelrettungsschacht\n",
      "Tunnelrettungsschachtstollen\n",
      "Tunnelrettungsstollen\n",
      "Tunnelrettungsstollenportal\n",
      "Tunnelroehre\n",
      "Ueberbau\n",
      "Umleitungsbausatz\n",
      "Umweltschutzfläche\n",
      "Unterbau\n",
      "Untergrundverbesserung\n",
      "Unterhaltsweg\n",
      "Unterschottermatte\n",
      "Verbau\n",
      "Verbinder\n",
      "Verfuellung\n",
      "Verschubsystem\n",
      "Versickerungsbecken\n",
      "Versickerungsgraben\n",
      "Versickerungsmulde\n",
      "WKrAnlage\n",
      "WKrGspElement\n",
      "WKrGspKomponente \n",
      "Warneinrichtung\n",
      "Wasserfuehrung\n",
      "Wasserleitsystem\n",
      "Weiche\n",
      "Weichen und Gleissperren\n",
      "Weichenschienenpaar\n",
      "Weichenschwellen\n",
      "Weichenzuge\n",
      "Widerlager\n",
      "Widerlagerhinterfuellung\n",
      "Widerlagerwand\n",
      "Winkelstuetzwand\n",
      "Zugang\n",
      "Zugbeeinflussung\n",
      "ZusaetzlicheStrassenelemente\n"
     ]
    }
   ],
   "source": [
    "for obj in proj.objects:\n",
    "    print(obj.name)"
   ]
  },
  {
   "cell_type": "code",
   "execution_count": 21,
   "metadata": {
    "pycharm": {
     "name": "#%%\n"
    }
   },
   "outputs": [
    {
     "name": "stdout",
     "output_type": "stream",
     "text": [
      "Objekt Name: Ueberbau\n",
      "Objekt ident: br.ue\n",
      "Objekt Kürzel: UE\n"
     ]
    }
   ],
   "source": [
    "obj_dict: dict[str,Object] = {obj.ident_value:obj for obj in proj.objects}\n",
    "obj_1 = obj_dict[\"br.ue\"]\n",
    "print(f\"Objekt Name: {obj_1.name}\")\n",
    "print(f\"Objekt ident: {obj_1.ident_value}\")\n",
    "print(f\"Objekt Kürzel: {obj_1.abbreviation}\")"
   ]
  },
  {
   "cell_type": "code",
   "execution_count": 20,
   "metadata": {
    "pycharm": {
     "name": "#%%\n"
    }
   },
   "outputs": [
    {
     "name": "stdout",
     "output_type": "stream",
     "text": [
      "Propertyset Name: Allgemeine Eigenschaften\n",
      "['nativeID', 'identitaet', 'eigentuemer', 'bemerkung', 'name', 'bauteilKlassifikation', 'bauteilName']\n",
      "-------------------------\n",
      "Propertyset Name: Gruppierung\n",
      "['idGruppe']\n",
      "-------------------------\n"
     ]
    }
   ],
   "source": [
    "for property_set in obj_1.property_sets:\n",
    "    print(f\"Propertyset Name: {property_set.name}\")\n",
    "    print([attribute.name for attribute in property_set.attributes])\n",
    "    print(\"-\")"
   ]
  },
  {
   "cell_type": "code",
   "execution_count": 19,
   "metadata": {
    "pycharm": {
     "name": "#%%\n"
    }
   },
   "outputs": [
    {
     "name": "stdout",
     "output_type": "stream",
     "text": [
      "name: bauteilKlassifikation\n",
      "value: ['br.ue']\n",
      "data_type: xs:string\n",
      "value_type: List\n"
     ]
    }
   ],
   "source": [
    "pset_1 = obj_1.get_property_set_by_name(\"Allgemeine Eigenschaften\")\n",
    "attribute_1 = pset_1.get_attribute_by_name(\"bauteilKlassifikation\")\n",
    "\n",
    "print(f\"name: {attribute_1.name}\")\n",
    "print(f\"value: {attribute_1.value}\")            # possible Values\n",
    "print(f\"data_type: {attribute_1.data_type}\")    # xs:string;xs:double;xs:boolean,xs:int\n",
    "print(f\"value_type: {attribute_1.value_type}\")  # List, Range, Format\n",
    "                                                # List: checks if value is in given List\n",
    "                                                # Range: checks if value is in given Range(s)\n",
    "                                                # Format: checks if value matches Regular Expression\n"
   ]
  },
  {
   "cell_type": "markdown",
   "metadata": {
    "pycharm": {
     "name": "#%% md\n"
    }
   },
   "source": [
    "# Aggregation"
   ]
  },
  {
   "cell_type": "code",
   "execution_count": 40,
   "metadata": {
    "pycharm": {
     "name": "#%%\n"
    }
   },
   "outputs": [
    {
     "name": "stdout",
     "output_type": "stream",
     "text": [
      "{<SOMcreator.classes.Aggregation object at 0x0000015E92F51050>}\n"
     ]
    }
   ],
   "source": [
    "aggregations = obj_1.aggregation_representations    #Object can only be placed in Aggregation Structure\n",
    "print(aggregations)\n",
    "aggregation = next(iter(aggregations))"
   ]
  },
  {
   "cell_type": "code",
   "execution_count": 41,
   "metadata": {
    "pycharm": {
     "name": "#%%\n"
    }
   },
   "outputs": [
    {
     "name": "stdout",
     "output_type": "stream",
     "text": [
      "Element: Ueberbau\n",
      "Parent: Bruecke\n",
      "Children: ['Kappe', 'Brueckentragwerk']\n",
      "Objekt: Object Ueberbau\n",
      "Parent connection: 1\n"
     ]
    }
   ],
   "source": [
    "print(f\"Element: {aggregation.name}\")\n",
    "print(f\"Parent: {aggregation.parent.name}\")\n",
    "print(f\"Children: {[child.name for child in aggregation.children]}\")\n",
    "print(f\"Objekt: {aggregation.object}\")\n",
    "print(f\"Parent connection: {aggregation.parent_connection}\")            #1 = aggregation 2 = inheritance 3 = aggregation & inheritance\n",
    "\n"
   ]
  },
  {
   "cell_type": "code",
   "execution_count": 42,
   "metadata": {
    "pycharm": {
     "name": "#%%\n"
    }
   },
   "outputs": [
    {
     "data": {
      "image/png": "[encoded data removed]",
      "text/plain": [
       "<IPython.core.display.Image object>"
      ]
     },
     "execution_count": 42,
     "metadata": {},
     "output_type": "execute_result"
    }
   ],
   "source": [
    "from IPython import display\n",
    "display.Image(\"C:/Users/ChristophMellueh/Pictures/screenshots/aggreg.png\")"
   ]
  },
  {
   "cell_type": "markdown",
   "metadata": {
    "pycharm": {
     "name": "#%% md\n"
    }
   },
   "source": []
  }
 ],
 "metadata": {
  "kernelspec": {
   "display_name": "Python 3 (ipykernel)",
   "language": "python",
   "name": "python3"
  },
  "language_info": {
   "codemirror_mode": {
    "name": "ipython",
    "version": 3
   },
   "file_extension": ".py",
   "mimetype": "text/x-python",
   "name": "python",
   "nbconvert_exporter": "python",
   "pygments_lexer": "ipython3",
   "version": "3.11.2"
  }
 },
 "nbformat": 4,
 "nbformat_minor": 1
}